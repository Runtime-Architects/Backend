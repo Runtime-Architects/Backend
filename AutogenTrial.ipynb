{
  "nbformat": 4,
  "nbformat_minor": 0,
  "metadata": {
    "colab": {
      "provenance": []
    },
    "kernelspec": {
      "name": "python3",
      "display_name": "Python 3"
    },
    "language_info": {
      "name": "python"
    }
  },
  "cells": [
    {
      "cell_type": "code",
      "execution_count": 3,
      "metadata": {
        "colab": {
          "base_uri": "https://localhost:8080/"
        },
        "id": "qfMdK1jMG4tp",
        "outputId": "034fc87b-bfe9-40a1-cfda-03bc133c4dd1"
      },
      "outputs": [
        {
          "output_type": "stream",
          "name": "stdout",
          "text": [
            "Requirement already satisfied: pyautogen in /usr/local/lib/python3.11/dist-packages (0.9.0)\n",
            "Collecting autogen_core\n",
            "  Downloading autogen_core-0.6.1-py3-none-any.whl.metadata (2.3 kB)\n",
            "Requirement already satisfied: anyio<5.0.0,>=3.0.0 in /usr/local/lib/python3.11/dist-packages (from pyautogen) (4.9.0)\n",
            "Requirement already satisfied: asyncer==0.0.8 in /usr/local/lib/python3.11/dist-packages (from pyautogen) (0.0.8)\n",
            "Requirement already satisfied: diskcache in /usr/local/lib/python3.11/dist-packages (from pyautogen) (5.6.3)\n",
            "Requirement already satisfied: docker in /usr/local/lib/python3.11/dist-packages (from pyautogen) (7.1.0)\n",
            "Requirement already satisfied: httpx<1,>=0.28.1 in /usr/local/lib/python3.11/dist-packages (from pyautogen) (0.28.1)\n",
            "Requirement already satisfied: packaging in /usr/local/lib/python3.11/dist-packages (from pyautogen) (24.2)\n",
            "Requirement already satisfied: pydantic<3,>=2.6.1 in /usr/local/lib/python3.11/dist-packages (from pyautogen) (2.11.5)\n",
            "Requirement already satisfied: python-dotenv in /usr/local/lib/python3.11/dist-packages (from pyautogen) (1.1.0)\n",
            "Requirement already satisfied: termcolor in /usr/local/lib/python3.11/dist-packages (from pyautogen) (3.1.0)\n",
            "Requirement already satisfied: tiktoken in /usr/local/lib/python3.11/dist-packages (from pyautogen) (0.9.0)\n",
            "Collecting jsonref~=1.1.0 (from autogen_core)\n",
            "  Downloading jsonref-1.1.0-py3-none-any.whl.metadata (2.7 kB)\n",
            "Collecting opentelemetry-api>=1.27.0 (from autogen_core)\n",
            "  Downloading opentelemetry_api-1.34.0-py3-none-any.whl.metadata (1.5 kB)\n",
            "Requirement already satisfied: pillow>=11.0.0 in /usr/local/lib/python3.11/dist-packages (from autogen_core) (11.2.1)\n",
            "Requirement already satisfied: protobuf~=5.29.3 in /usr/local/lib/python3.11/dist-packages (from autogen_core) (5.29.5)\n",
            "Requirement already satisfied: typing-extensions>=4.0.0 in /usr/local/lib/python3.11/dist-packages (from autogen_core) (4.14.0)\n",
            "Requirement already satisfied: idna>=2.8 in /usr/local/lib/python3.11/dist-packages (from anyio<5.0.0,>=3.0.0->pyautogen) (3.10)\n",
            "Requirement already satisfied: sniffio>=1.1 in /usr/local/lib/python3.11/dist-packages (from anyio<5.0.0,>=3.0.0->pyautogen) (1.3.1)\n",
            "Requirement already satisfied: certifi in /usr/local/lib/python3.11/dist-packages (from httpx<1,>=0.28.1->pyautogen) (2025.4.26)\n",
            "Requirement already satisfied: httpcore==1.* in /usr/local/lib/python3.11/dist-packages (from httpx<1,>=0.28.1->pyautogen) (1.0.9)\n",
            "Requirement already satisfied: h11>=0.16 in /usr/local/lib/python3.11/dist-packages (from httpcore==1.*->httpx<1,>=0.28.1->pyautogen) (0.16.0)\n",
            "Requirement already satisfied: importlib-metadata<8.8.0,>=6.0 in /usr/local/lib/python3.11/dist-packages (from opentelemetry-api>=1.27.0->autogen_core) (8.7.0)\n",
            "Requirement already satisfied: annotated-types>=0.6.0 in /usr/local/lib/python3.11/dist-packages (from pydantic<3,>=2.6.1->pyautogen) (0.7.0)\n",
            "Requirement already satisfied: pydantic-core==2.33.2 in /usr/local/lib/python3.11/dist-packages (from pydantic<3,>=2.6.1->pyautogen) (2.33.2)\n",
            "Requirement already satisfied: typing-inspection>=0.4.0 in /usr/local/lib/python3.11/dist-packages (from pydantic<3,>=2.6.1->pyautogen) (0.4.1)\n",
            "Requirement already satisfied: requests>=2.26.0 in /usr/local/lib/python3.11/dist-packages (from docker->pyautogen) (2.32.3)\n",
            "Requirement already satisfied: urllib3>=1.26.0 in /usr/local/lib/python3.11/dist-packages (from docker->pyautogen) (2.4.0)\n",
            "Requirement already satisfied: regex>=2022.1.18 in /usr/local/lib/python3.11/dist-packages (from tiktoken->pyautogen) (2024.11.6)\n",
            "Requirement already satisfied: zipp>=3.20 in /usr/local/lib/python3.11/dist-packages (from importlib-metadata<8.8.0,>=6.0->opentelemetry-api>=1.27.0->autogen_core) (3.22.0)\n",
            "Requirement already satisfied: charset-normalizer<4,>=2 in /usr/local/lib/python3.11/dist-packages (from requests>=2.26.0->docker->pyautogen) (3.4.2)\n",
            "Downloading autogen_core-0.6.1-py3-none-any.whl (97 kB)\n",
            "\u001b[2K   \u001b[90m━━━━━━━━━━━━━━━━━━━━━━━━━━━━━━━━━━━━━━━━\u001b[0m \u001b[32m97.3/97.3 kB\u001b[0m \u001b[31m2.4 MB/s\u001b[0m eta \u001b[36m0:00:00\u001b[0m\n",
            "\u001b[?25hDownloading jsonref-1.1.0-py3-none-any.whl (9.4 kB)\n",
            "Downloading opentelemetry_api-1.34.0-py3-none-any.whl (65 kB)\n",
            "\u001b[2K   \u001b[90m━━━━━━━━━━━━━━━━━━━━━━━━━━━━━━━━━━━━━━━━\u001b[0m \u001b[32m65.8/65.8 kB\u001b[0m \u001b[31m4.2 MB/s\u001b[0m eta \u001b[36m0:00:00\u001b[0m\n",
            "\u001b[?25hInstalling collected packages: jsonref, opentelemetry-api, autogen_core\n",
            "Successfully installed autogen_core-0.6.1 jsonref-1.1.0 opentelemetry-api-1.34.0\n"
          ]
        }
      ],
      "source": [
        "!pip3 install pyautogen autogen_core\n"
      ]
    },
    {
      "cell_type": "code",
      "source": [
        "from dataclasses import dataclass\n",
        "from typing import Callable\n",
        "\n",
        "from autogen_core import DefaultTopicId, MessageContext, RoutedAgent, default_subscription, message_handler\n",
        "\n",
        "\n",
        "@dataclass\n",
        "class Message:\n",
        "    content: int\n",
        "\n",
        "\n",
        "@default_subscription\n",
        "class Modifier(RoutedAgent):\n",
        "    def __init__(self, modify_val: Callable[[int], int]) -> None:\n",
        "        super().__init__(\"A modifier agent.\")\n",
        "        self._modify_val = modify_val\n",
        "\n",
        "    @message_handler\n",
        "    async def handle_message(self, message: Message, ctx: MessageContext) -> None:\n",
        "        val = self._modify_val(message.content)\n",
        "        print(f\"{'-'*80}\\nModifier:\\nModified {message.content} to {val}\")\n",
        "        await self.publish_message(Message(content=val), DefaultTopicId())  # type: ignore\n",
        "\n",
        "\n",
        "@default_subscription\n",
        "class Checker(RoutedAgent):\n",
        "    def __init__(self, run_until: Callable[[int], bool]) -> None:\n",
        "        super().__init__(\"A checker agent.\")\n",
        "        self._run_until = run_until\n",
        "\n",
        "    @message_handler\n",
        "    async def handle_message(self, message: Message, ctx: MessageContext) -> None:\n",
        "        if not self._run_until(message.content):\n",
        "            print(f\"{'-'*80}\\nChecker:\\n{message.content} passed the check, continue.\")\n",
        "            await self.publish_message(Message(content=message.content), DefaultTopicId())\n",
        "        else:\n",
        "            print(f\"{'-'*80}\\nChecker:\\n{message.content} failed the check, stopping.\")\n"
      ],
      "metadata": {
        "id": "8sDK-ommHA7b"
      },
      "execution_count": 4,
      "outputs": []
    },
    {
      "cell_type": "code",
      "source": [
        "from autogen_core import AgentId, SingleThreadedAgentRuntime\n",
        "\n",
        "# Create a local embedded runtime.\n",
        "runtime = SingleThreadedAgentRuntime()\n",
        "\n",
        "# Register the modifier and checker agents by providing\n",
        "# their agent types, the factory functions for creating instance and subscriptions.\n",
        "await Modifier.register(\n",
        "    runtime,\n",
        "    \"modifier\",\n",
        "    # Modify the value by subtracting 1\n",
        "    lambda: Modifier(modify_val=lambda x: x - 1),\n",
        ")\n",
        "\n",
        "await Checker.register(\n",
        "    runtime,\n",
        "    \"checker\",\n",
        "    # Run until the value is less than or equal to 1\n",
        "    lambda: Checker(run_until=lambda x: x <= 1),\n",
        ")\n",
        "\n",
        "# Start the runtime and send a direct message to the checker.\n",
        "runtime.start()\n",
        "await runtime.send_message(Message(10), AgentId(\"checker\", \"default\"))\n",
        "await runtime.stop_when_idle()\n"
      ],
      "metadata": {
        "colab": {
          "base_uri": "https://localhost:8080/"
        },
        "id": "nADztmOoHvIn",
        "outputId": "dcb69e66-0812-459a-978c-a77e1c208001"
      },
      "execution_count": 5,
      "outputs": [
        {
          "output_type": "stream",
          "name": "stdout",
          "text": [
            "--------------------------------------------------------------------------------\n",
            "Checker:\n",
            "10 passed the check, continue.\n",
            "--------------------------------------------------------------------------------\n",
            "Modifier:\n",
            "Modified 10 to 9\n",
            "--------------------------------------------------------------------------------\n",
            "Checker:\n",
            "9 passed the check, continue.\n",
            "--------------------------------------------------------------------------------\n",
            "Modifier:\n",
            "Modified 9 to 8\n",
            "--------------------------------------------------------------------------------\n",
            "Checker:\n",
            "8 passed the check, continue.\n",
            "--------------------------------------------------------------------------------\n",
            "Modifier:\n",
            "Modified 8 to 7\n",
            "--------------------------------------------------------------------------------\n",
            "Checker:\n",
            "7 passed the check, continue.\n",
            "--------------------------------------------------------------------------------\n",
            "Modifier:\n",
            "Modified 7 to 6\n",
            "--------------------------------------------------------------------------------\n",
            "Checker:\n",
            "6 passed the check, continue.\n",
            "--------------------------------------------------------------------------------\n",
            "Modifier:\n",
            "Modified 6 to 5\n",
            "--------------------------------------------------------------------------------\n",
            "Checker:\n",
            "5 passed the check, continue.\n",
            "--------------------------------------------------------------------------------\n",
            "Modifier:\n",
            "Modified 5 to 4\n",
            "--------------------------------------------------------------------------------\n",
            "Checker:\n",
            "4 passed the check, continue.\n",
            "--------------------------------------------------------------------------------\n",
            "Modifier:\n",
            "Modified 4 to 3\n",
            "--------------------------------------------------------------------------------\n",
            "Checker:\n",
            "3 passed the check, continue.\n",
            "--------------------------------------------------------------------------------\n",
            "Modifier:\n",
            "Modified 3 to 2\n",
            "--------------------------------------------------------------------------------\n",
            "Checker:\n",
            "2 passed the check, continue.\n",
            "--------------------------------------------------------------------------------\n",
            "Modifier:\n",
            "Modified 2 to 1\n",
            "--------------------------------------------------------------------------------\n",
            "Checker:\n",
            "1 failed the check, stopping.\n"
          ]
        }
      ]
    },
    {
      "cell_type": "code",
      "source": [],
      "metadata": {
        "id": "7zI9-XTuLuMN"
      },
      "execution_count": null,
      "outputs": []
    }
  ]
}