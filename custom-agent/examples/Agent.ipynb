{
 "cells": [
  {
   "cell_type": "code",
   "execution_count": 2,
   "id": "0efd4aa3",
   "metadata": {},
   "outputs": [],
   "source": [
    "import autogen\n",
    "from autogen import AssistantAgent, UserProxyAgent, ConversableAgent\n",
    "from src.client import CustomModelClient"
   ]
  },
  {
   "cell_type": "code",
   "execution_count": 3,
   "id": "3343e921",
   "metadata": {},
   "outputs": [],
   "source": [
    "config_list_custom = autogen.config_list_from_json(\n",
    "    \"OAI_CONFIG_LIST\",\n",
    "    filter_dict={\"model_client_cls\": [\"CustomModelClient\"]},\n",
    ")"
   ]
  },
  {
   "cell_type": "code",
   "execution_count": 2,
   "id": "bc9013bb",
   "metadata": {},
   "outputs": [],
   "source": [
    "# # Get the default system message\n",
    "# default_system_message = AssistantAgent.DEFAULT_SYSTEM_MESSAGE\n",
    "\n",
    "# # Custom additions\n",
    "# custom_rules = \"\"\"\n",
    "# ADDITIONAL RULES:\n",
    "# 1. Answer factual questions concisely.\n",
    "# 2. Only suggest code when explicitly asked.\n",
    "# 3. Always end with TERMINATE.\n",
    "# \"\"\"\n",
    "\n",
    "# # Combine\n",
    "# hybrid_message = f\"{default_system_message}\\n\\n{custom_rules}\""
   ]
  },
  {
   "cell_type": "code",
   "execution_count": 8,
   "id": "42c6aa56",
   "metadata": {},
   "outputs": [
    {
     "name": "stdout",
     "output_type": "stream",
     "text": [
      "[autogen.oai.client: 06-09 14:09:40] {890} INFO - Detected custom model client in config: CustomModelClient, model client can not be used until register_model_client is called.\n"
     ]
    }
   ],
   "source": [
    "assistant = AssistantAgent(\"assistant\", \n",
    "                           llm_config={\"config_list\": config_list_custom})"
   ]
  },
  {
   "cell_type": "code",
   "execution_count": 9,
   "id": "dd4614bc",
   "metadata": {},
   "outputs": [],
   "source": [
    "user_proxy = UserProxyAgent(\n",
    "    \"user_proxy\",\n",
    "    human_input_mode=\"NEVER\",\n",
    "    is_termination_msg=lambda x: (\n",
    "        \"TERMINATE\" in x.get(\"content\", \"\")),\n",
    "    code_execution_config={\n",
    "        \"work_dir\": \"coding\",\n",
    "        \"use_docker\": False,  \n",
    "    },\n",
    ")"
   ]
  },
  {
   "cell_type": "markdown",
   "id": "8c3dfe16",
   "metadata": {},
   "source": [
    "Register the custom client class to the assistant agent"
   ]
  },
  {
   "cell_type": "code",
   "execution_count": 10,
   "id": "3564c1b3",
   "metadata": {},
   "outputs": [
    {
     "name": "stdout",
     "output_type": "stream",
     "text": [
      "Initialized Cerebras client for model: llama-4-scout-17b-16e-instruct\n"
     ]
    }
   ],
   "source": [
    "assistant.register_model_client(model_client_cls=CustomModelClient)"
   ]
  },
  {
   "cell_type": "code",
   "execution_count": 11,
   "id": "aed8dbfa",
   "metadata": {},
   "outputs": [
    {
     "name": "stdout",
     "output_type": "stream",
     "text": [
      "\u001b[33muser_proxy\u001b[0m (to assistant):\n",
      "\n",
      "How many minutes are there in an hour?\n",
      "\n",
      "--------------------------------------------------------------------------------\n",
      "Incoming params: {'messages': [{'content': 'You are a helpful AI assistant.\\nSolve tasks using your coding and language skills.\\nIn the following cases, suggest python code (in a python coding block) or shell script (in a sh coding block) for the user to execute.\\n    1. When you need to collect info, use the code to output the info you need, for example, browse or search the web, download/read a file, print the content of a webpage or a file, get the current date/time, check the operating system. After sufficient info is printed and the task is ready to be solved based on your language skill, you can solve the task by yourself.\\n    2. When you need to perform some task with code, use the code to perform the task and output the result. Finish the task smartly.\\nSolve the task step by step if you need to. If a plan is not provided, explain your plan first. Be clear which step uses code, and which step uses your language skill.\\nWhen using code, you must indicate the script type in the code block. The user cannot provide any other feedback or perform any other action beyond executing the code you suggest. The user can\\'t modify your code. So do not suggest incomplete code which requires users to modify. Don\\'t use a code block if it\\'s not intended to be executed by the user.\\nIf you want the user to save the code in a file before executing it, put # filename: <filename> inside the code block as the first line. Don\\'t include multiple code blocks in one response. Do not ask users to copy and paste the result. Instead, use \\'print\\' function for the output when relevant. Check the execution result returned by the user.\\nIf the result indicates there is an error, fix the error and output the code again. Suggest the full code instead of partial code or code changes. If the error can\\'t be fixed or if the task is not solved even after the code is executed successfully, analyze the problem, revisit your assumption, collect additional info you need, and think of a different approach to try.\\nWhen you find an answer, verify the answer carefully. Include verifiable evidence in your response if possible.\\nReply \"TERMINATE\" in the end when everything is done.\\n    ', 'role': 'system'}, {'content': 'How many minutes are there in an hour?', 'role': 'user', 'name': 'user_proxy'}], 'model': 'llama-4-scout-17b-16e-instruct', 'model_client_cls': 'CustomModelClient'}\n",
      "\u001b[33massistant\u001b[0m (to user_proxy):\n",
      "\n",
      "There are 60 minutes in an hour.\n",
      "\n",
      "TERMINATE\n",
      "\n",
      "--------------------------------------------------------------------------------\n",
      "\u001b[31m\n",
      ">>>>>>>> TERMINATING RUN (d4001ca5-ee50-43b1-8deb-e39b004d72fe): Termination message condition on agent 'user_proxy' met\u001b[0m\n",
      "\n",
      "Final response:\n",
      " There are 60 minutes in an hour.\n",
      "\n",
      "\n"
     ]
    }
   ],
   "source": [
    "task = \"How many minutes are there in an hour?\"\n",
    "\n",
    "# Start a conversation and get the final message only\n",
    "chat_result = user_proxy.initiate_chat(\n",
    "    assistant,\n",
    "    message=task,\n",
    "    summary_method=\"last_msg\"  \n",
    ")\n",
    "\n",
    "if chat_result:\n",
    "    print(\"\\nFinal response:\\n\", chat_result.summary)"
   ]
  },
  {
   "cell_type": "code",
   "execution_count": null,
   "id": "5916ce48",
   "metadata": {},
   "outputs": [],
   "source": []
  }
 ],
 "metadata": {
  "kernelspec": {
   "display_name": ".venv",
   "language": "python",
   "name": "python3"
  },
  "language_info": {
   "codemirror_mode": {
    "name": "ipython",
    "version": 3
   },
   "file_extension": ".py",
   "mimetype": "text/x-python",
   "name": "python",
   "nbconvert_exporter": "python",
   "pygments_lexer": "ipython3",
   "version": "3.10.0"
  }
 },
 "nbformat": 4,
 "nbformat_minor": 5
}
