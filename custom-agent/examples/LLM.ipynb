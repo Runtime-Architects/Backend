{
 "cells": [
  {
   "cell_type": "code",
   "execution_count": 1,
   "id": "018551ae",
   "metadata": {},
   "outputs": [],
   "source": [
    "import os\n",
    "from dotenv import load_dotenv\n",
    "from cerebras.cloud.sdk import Cerebras"
   ]
  },
  {
   "cell_type": "code",
   "execution_count": 2,
   "id": "e2272564",
   "metadata": {},
   "outputs": [
    {
     "data": {
      "text/plain": [
       "True"
      ]
     },
     "execution_count": 2,
     "metadata": {},
     "output_type": "execute_result"
    }
   ],
   "source": [
    "load_dotenv()"
   ]
  },
  {
   "cell_type": "code",
   "execution_count": 3,
   "id": "becd3fa3",
   "metadata": {},
   "outputs": [
    {
     "name": "stdout",
     "output_type": "stream",
     "text": [
      "ChatCompletionResponse(id='chatcmpl-7334ee6b-738c-4ef0-9ec9-1cb092565dc3', choices=[ChatCompletionResponseChoice(finish_reason='stop', index=0, message=ChatCompletionResponseChoiceMessage(role='assistant', content=\"Cerebras Systems is a privately held American artificial intelligence (AI) hardware and software company based in Sunnyvale, California. The company was founded in 2016 by Andrew Rokhlenko, Chris Rowan, David Fuksman, and Moshe Fridman.\\n\\nCerebras specializes in developing AI-focused hardware and software solutions designed to accelerate machine learning workloads, particularly deep learning. Their primary product is the Cerebras CS1, a large-scale AI chip designed for training and inference workloads.\\n\\nThe Cerebras CS1 chip is notable for its massive size, featuring a 12-inch wafer-scale design with 1.2 trillion transistors. This large-scale design allows for a significant increase in computing power and memory bandwidth, making it one of the most powerful AI chips available.\\n\\nCerebras' technology is targeted at applications such as natural language processing, computer vision, and autonomous vehicles, among others. The company's solutions aim to enable faster and more efficient AI processing, which can help accelerate innovation in various industries.\\n\\nCerebras has gained attention in the tech industry for its innovative approach to AI computing, and has partnered with several major companies, including Google Cloud, to provide its AI solutions.\", tool_calls=None), logprobs=None)], created=1749419193, model='llama-4-scout-17b-16e-instruct', object='chat.completion', system_fingerprint='fp_cbc10163c2c34afca015', time_info=ChatCompletionResponseTimeInfo(completion_time=0.184290296, prompt_time=0.000927573, queue_time=0.000604491, total_time=0.19368720054626465, created=1749419193), usage=ChatCompletionResponseUsage(completion_tokens=239, prompt_tokens=15, prompt_tokens_details=ChatCompletionResponseUsagePromptTokensDetails(cached_tokens=0), total_tokens=254), service_tier=None)\n"
     ]
    }
   ],
   "source": [
    "client = Cerebras(\n",
    "  api_key=os.environ.get(\"CEREBRAS_API_KEY\"),\n",
    ")\n",
    "\n",
    "chat_completion = client.chat.completions.create(\n",
    "  messages=[\n",
    "  {\"role\": \"user\", \"content\": \"What is Cerebras?\",}\n",
    "],\n",
    "  model=\"llama-4-scout-17b-16e-instruct\",\n",
    ")\n",
    "\n",
    "\n",
    "print(chat_completion)"
   ]
  },
  {
   "cell_type": "code",
   "execution_count": 4,
   "id": "e1e95bdd",
   "metadata": {},
   "outputs": [
    {
     "data": {
      "text/plain": [
       "cerebras.cloud.sdk.types.chat.chat_completion.ChatCompletionResponse"
      ]
     },
     "execution_count": 4,
     "metadata": {},
     "output_type": "execute_result"
    }
   ],
   "source": [
    "type(chat_completion)"
   ]
  },
  {
   "cell_type": "code",
   "execution_count": 5,
   "id": "a0c19269",
   "metadata": {},
   "outputs": [
    {
     "data": {
      "text/plain": [
       "\"Cerebras Systems is a privately held American artificial intelligence (AI) hardware and software company based in Sunnyvale, California. The company was founded in 2016 by Andrew Rokhlenko, Chris Rowan, David Fuksman, and Moshe Fridman.\\n\\nCerebras specializes in developing AI-focused hardware and software solutions designed to accelerate machine learning workloads, particularly deep learning. Their primary product is the Cerebras CS1, a large-scale AI chip designed for training and inference workloads.\\n\\nThe Cerebras CS1 chip is notable for its massive size, featuring a 12-inch wafer-scale design with 1.2 trillion transistors. This large-scale design allows for a significant increase in computing power and memory bandwidth, making it one of the most powerful AI chips available.\\n\\nCerebras' technology is targeted at applications such as natural language processing, computer vision, and autonomous vehicles, among others. The company's solutions aim to enable faster and more efficient AI processing, which can help accelerate innovation in various industries.\\n\\nCerebras has gained attention in the tech industry for its innovative approach to AI computing, and has partnered with several major companies, including Google Cloud, to provide its AI solutions.\""
      ]
     },
     "execution_count": 5,
     "metadata": {},
     "output_type": "execute_result"
    }
   ],
   "source": [
    "chat_completion.choices[0].message.content"
   ]
  }
 ],
 "metadata": {
  "kernelspec": {
   "display_name": ".venv",
   "language": "python",
   "name": "python3"
  },
  "language_info": {
   "codemirror_mode": {
    "name": "ipython",
    "version": 3
   },
   "file_extension": ".py",
   "mimetype": "text/x-python",
   "name": "python",
   "nbconvert_exporter": "python",
   "pygments_lexer": "ipython3",
   "version": "3.10.0"
  }
 },
 "nbformat": 4,
 "nbformat_minor": 5
}
